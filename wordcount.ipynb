{
 "cells": [
  {
   "cell_type": "code",
   "execution_count": 1,
   "metadata": {},
   "outputs": [
    {
     "name": "stdout",
     "output_type": "stream",
     "text": [
      "words alone is 2500\n",
      "figure 1 aspect ratio is 0.8721590909090909\n",
      "figure 1 word count is 191.98697068403908\n",
      "figure 2 aspect ratio is 1.93036750483559\n",
      "figure 2 word count is 350.82164328657313\n",
      "equation word count is 144\n",
      "total word count is 3186.808613970612\n"
     ]
    }
   ],
   "source": [
    "words_alone = 2500\n",
    "print(\"words alone is {}\".format(words_alone))\n",
    "\n",
    "# Figure 1\n",
    "width=621-7\n",
    "height=712-8\n",
    "aspect_ratio=width/height\n",
    "print(\"figure 1 aspect ratio is {}\".format(aspect_ratio))\n",
    "fig1_word_count = 150/aspect_ratio + 20\n",
    "print(\"figure 1 word count is {}\".format(fig1_word_count))\n",
    "\n",
    "#Figure 2\n",
    "width=(506-7)*2 # to account for both plots\n",
    "height=525-8\n",
    "aspect_ratio=width/height\n",
    "fig2_word_count = 300/(0.5*aspect_ratio) + 40\n",
    "print(\"figure 2 aspect ratio is {}\".format(aspect_ratio))\n",
    "print(\"figure 2 word count is {}\".format(fig2_word_count))\n",
    "\n",
    "#Equations\n",
    "num_equations = 9\n",
    "equation_words = num_equations*16\n",
    "print(\"equation word count is {}\".format(equation_words))\n",
    "\n",
    "print(\"total word count is {}\".format(words_alone + fig1_word_count + fig2_word_count + equation_words))"
   ]
  }
 ],
 "metadata": {
  "kernelspec": {
   "display_name": "base",
   "language": "python",
   "name": "python3"
  },
  "language_info": {
   "codemirror_mode": {
    "name": "ipython",
    "version": 3
   },
   "file_extension": ".py",
   "mimetype": "text/x-python",
   "name": "python",
   "nbconvert_exporter": "python",
   "pygments_lexer": "ipython3",
   "version": "3.9.7"
  }
 },
 "nbformat": 4,
 "nbformat_minor": 2
}
